{
 "cells": [
  {
   "cell_type": "markdown",
   "id": "bd309439",
   "metadata": {},
   "source": [
    "# <font color='purple'>English to Malayalam Machine Translation </font>\n",
    "<hr/>"
   ]
  },
  {
   "cell_type": "markdown",
   "id": "db0fdbc9",
   "metadata": {},
   "source": [
    "### Overview"
   ]
  },
  {
   "cell_type": "markdown",
   "id": "1d3ff49d",
   "metadata": {},
   "source": [
    "### 1.Aim \n",
    "\n",
    "To build an efficient translator which translate English text to Malayalam accurately"
   ]
  },
  {
   "cell_type": "markdown",
   "id": "7d2519f6",
   "metadata": {},
   "source": [
    "### 2. Problem Statement\n",
    "\n",
    "Since, there aren’t many machine translation tools available for English to Malayalam\n",
    "translation, there is a need to create one which will accurately translate English text into Malayalam."
   ]
  },
  {
   "cell_type": "markdown",
   "id": "dae8b399",
   "metadata": {},
   "source": [
    "### 3. Sections\n",
    "- 1. Importing necessary libraries\n",
    "- 2. GUI Creation\n",
    "- 3. Building Translator"
   ]
  },
  {
   "cell_type": "markdown",
   "id": "cbf6d2b3",
   "metadata": {},
   "source": [
    "### 4. Result"
   ]
  },
  {
   "cell_type": "markdown",
   "id": "a3ca4878",
   "metadata": {},
   "source": [
    "### 1. Importing necessary libraries"
   ]
  },
  {
   "cell_type": "code",
   "execution_count": 1,
   "id": "1222a4a1",
   "metadata": {},
   "outputs": [],
   "source": [
    "#Libraries used\n",
    "#for GUI\n",
    "from tkinter import *\n",
    "from tkinter import filedialog\n",
    "\n",
    "#for translation\n",
    "import googletrans\n",
    "from googletrans import Translator\n",
    "\n",
    "#For Audio\n",
    "import pyttsx3\n"
   ]
  },
  {
   "cell_type": "markdown",
   "id": "fdc7c493",
   "metadata": {},
   "source": [
    "### 2. GUI Creation"
   ]
  },
  {
   "cell_type": "code",
   "execution_count": 2,
   "id": "5fffde79",
   "metadata": {},
   "outputs": [],
   "source": [
    "#GUI creation\n",
    "window = Tk()\n",
    "window.title(\"Language Translator - English to Malayalam\")\n",
    "window.geometry('720x560+100+100')\n",
    "window.configure(bg = '#9A9ACD')\n"
   ]
  },
  {
   "cell_type": "markdown",
   "id": "c7721ef3",
   "metadata": {},
   "source": [
    "### 3. Building Translator"
   ]
  },
  {
   "cell_type": "code",
   "execution_count": null,
   "id": "61bdd0b7",
   "metadata": {},
   "outputs": [
    {
     "name": "stdout",
     "output_type": "stream",
     "text": [
      "ml\n",
      "Translated(src=en, dest=ml, text=പദങ്ങളുടെ അടിസ്ഥാന രൂപം വീണ്ടെടുക്കുന്നതിന് അവയിൽ നിന്ന് അഫിക്സുകൾ ഒഴിവാക്കുന്നതിനുള്ള ഒരു രീതിയാണ് സ്റ്റെമ്മിംഗ്., pronunciation=padaṅṅaḷuṭe aṭisthāna rūpaṁ vīṇṭeṭukkunnatin avayil ninn aphiksukaḷ oḻivākkunnatinuḷḷa oru rītiyāṇ sṟṟem'miṅg., extra_data=\"{'translat...\")\n",
      "ml\n",
      "Translated(src=en, dest=ml, text=സംഘട്ടനസമയത്ത്, മാന്യരായ ആളുകൾക്കും ഭയപ്പെട്ട, പ്രതിരോധമില്ലാത്ത വ്യക്തികൾക്കും ഇത് ഒരു സങ്കേതമായി വർത്തിച്ചു., pronunciation=saṅghaṭṭanasamayatt, mān'yarāya āḷukaḷkkuṁ bhayappeṭṭa, pratirēādhamillātta vyaktikaḷkkuṁ it oru saṅkētamāyi vartticcu., extra_data=\"{'translat...\")\n"
     ]
    }
   ],
   "source": [
    "#Initialising Translator and Speech Engine\n",
    "translator = Translator()\n",
    "engine = pyttsx3.init()\n",
    "engine.setProperty(\"rate\",150)\n",
    "\n",
    "Post_lang_Choice = StringVar()\n",
    "#Setting a default Language for Translation\n",
    "Post_lang_Choice.set('malayalam')\n",
    "#Dictionary for the set of languages available\n",
    "lang = {'ml':'malayalam'}\n",
    "\n",
    "#Putting language values (not the symbol) into the list\n",
    "languages = []\n",
    "for langs in lang.values():\n",
    "    languages.append(langs)\n",
    "    \n",
    "#Function for Exception of non entry of text\n",
    "def exc():\n",
    "    print(\"Please enter text first\")\n",
    "    engine.say(\"Please enter text first\")\n",
    "    engine.runAndWait()\n",
    "    \n",
    "\n",
    "#Function for selecting the text file\n",
    "def TF():\n",
    "    print('Selecting File...')\n",
    "    text_file = filedialog.askopenfilename(initialdir = r\"C:\\Users\\HP\\Desktop\", \n",
    "                                           title = \"Select a text file to be translated\",\n",
    "                                          filetypes = ((\"text files\", \"*.txt\"),\n",
    "                                                       (\"All files\", \"*.*\")))\n",
    "    print(text_file)\n",
    "    \n",
    "    with open(text_file) as text:\n",
    "        contents = text.read()\n",
    "        print(contents)\n",
    "        InputVar.set(contents)\n",
    "        text.close()\n",
    "        \n",
    "# Function for Pronouncing the text\n",
    "def Pronounce():\n",
    "    try:\n",
    "        key_list = list(lang.keys())\n",
    "        val_list = list(lang.values())\n",
    "        end_lan = Post_lang_Choice.get()\n",
    "        end_position = val_list.index(end_lan)\n",
    "        ep = key_list[end_position]\n",
    "        translator.translate(InputVar.get(),dest = ep)\n",
    "        trans = translator.translate(InputVar.get(), dest = ep)\n",
    "        if trans.pronunciation is not None:\n",
    "            print(trans.pronunciation)\n",
    "            engine.say(trans.pronunciation)\n",
    "            engine.runAndWait()\n",
    "        else:\n",
    "            print(trans.text)\n",
    "            engine.say(trans.text)\n",
    "            engine.runAndWait()\n",
    "    except:\n",
    "        exc()\n",
    "        \n",
    "\n",
    "def Translate():\n",
    "#     try:\n",
    "        key_list = list(lang.keys())\n",
    "        val_list = list(lang.values())\n",
    "        end_lan = Post_lang_Choice.get()\n",
    "        end_position = val_list.index(end_lan)\n",
    "        ep = key_list[end_position]\n",
    "        print(ep)\n",
    "        trans = translator.translate(InputVar.get(), dest = ep)\n",
    "        print(trans)\n",
    "        Label(window, text = \"Translated Text\", font = ('Helvetica', 12),\n",
    "             bg = 'black', fg = 'white').place(x = 20, y = 190)\n",
    "        Label(window, text = trans.text, font = (\"MS Serit Bold\", 16),\n",
    "              fg = 'black', bg = '#CACAFF').place(x = 30, y = 220)\n",
    "#     except:\n",
    "#         exc()\n",
    "      \n",
    "\n",
    "\n",
    "    \n",
    "    \n",
    "#creating OptionMenu, Labels and Buttons on the Window for ease\n",
    "Post_lang_Menu = OptionMenu(window, Post_lang_Choice, *languages)\n",
    "Post_lang_Menu.config(bg = '#CACAFF')\n",
    "Post_lang_label = Label(window, text = \"Choose Translate Language\",\n",
    "                       font = ('System', 12), \n",
    "                        bg = '#7F7FFF').place(x = 390, y = 30)\n",
    "Post_lang_Menu.place(x = 500, y = 60)\n",
    "\n",
    "Input_lang_label = Label(window, text = \"Enter text below\",\n",
    "                         font = ('System', 16), \n",
    "                         bg = '#7F7FFF').place(x = 50, y = 100)\n",
    "InputVar = StringVar()\n",
    "Input_TextBox = Entry(window, textvariable = InputVar, width = 50,\n",
    "                      font = ('Georgia', 14)).place(x = 30, y = 120)\n",
    "\n",
    "Text_Button = Button(window, text = \"Have a text file? Select now.\",\n",
    "                     command = TF,\n",
    "                    font = ('Verdana', 10, 'underline'),\n",
    "                     borderwidth = 0,\n",
    "                     bg = '#FD7272', \n",
    "                     relief = GROOVE).place(x = 220, y= 150)\n",
    "\n",
    "Translate_Button = Button(window, text = 'Translate',\n",
    "                          command = Translate, \n",
    "                          bg = '#FFFF00', \n",
    "                          font =('Great Vibes', 14), \n",
    "                          relief = GROOVE).place(x = 280, y = 30)\n",
    "\n",
    "Pronounce_Button = Button(window, text = 'Pronounce Translated Text',\n",
    "                          font = ('Century', 14),\n",
    "                         bg = '#FFFF00', \n",
    "                          fg = 'black',\n",
    "                          command = Pronounce, \n",
    "                          relief = GROOVE).place(x = 220, y= 400)\n",
    "\n",
    "window.mainloop()\n",
    "\n"
   ]
  }
 ],
 "metadata": {
  "kernelspec": {
   "display_name": "Python 3 (ipykernel)",
   "language": "python",
   "name": "python3"
  },
  "language_info": {
   "codemirror_mode": {
    "name": "ipython",
    "version": 3
   },
   "file_extension": ".py",
   "mimetype": "text/x-python",
   "name": "python",
   "nbconvert_exporter": "python",
   "pygments_lexer": "ipython3",
   "version": "3.9.13"
  }
 },
 "nbformat": 4,
 "nbformat_minor": 5
}
